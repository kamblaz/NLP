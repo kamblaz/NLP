{
 "cells": [
  {
   "cell_type": "code",
   "execution_count": 1,
   "metadata": {},
   "outputs": [],
   "source": [
    "import urllib3\n",
    "from bs4 import BeautifulSoup\n",
    "import unicodecsv as csv"
   ]
  },
  {
   "cell_type": "code",
   "execution_count": 2,
   "metadata": {},
   "outputs": [],
   "source": [
    "def loadNumberOfSamples():\n",
    "    samples = []\n",
    "    with open('samples.txt', 'r') as fobj:\n",
    "        for line in fobj:\n",
    "            samples.append(int(line))\n",
    "    return samples\n",
    "def saveNumberOfSamples():\n",
    "    textfile = open(\"samples.txt\", \"w\")\n",
    "    for element in numberOfSamples:\n",
    "        textfile.write(str(element) + \"\\n\")\n",
    "    textfile.close()\n",
    "def saveSamplesToCSV():\n",
    "    with open('data.csv', 'ba') as f:\n",
    "        writer = csv.writer(f, encoding='utf-8')\n",
    "        for i in range (0, len(reviews)):\n",
    "            writer.writerow([ratings[i], reviews[i]])\n",
    "        f.close()"
   ]
  },
  {
   "cell_type": "code",
   "execution_count": 3,
   "metadata": {},
   "outputs": [],
   "source": [
    "http = urllib3.PoolManager()"
   ]
  },
  {
   "cell_type": "code",
   "execution_count": 4,
   "metadata": {},
   "outputs": [],
   "source": [
    "urllib3.disable_warnings(urllib3.exceptions.InsecureRequestWarning)"
   ]
  },
  {
   "cell_type": "code",
   "execution_count": 5,
   "metadata": {},
   "outputs": [],
   "source": [
    "def f(x):\n",
    "    return {\n",
    "        1.0: 0,\n",
    "        1.1: 1,\n",
    "        1.2: 2,\n",
    "        1.3: 3,\n",
    "        1.4: 4,\n",
    "        1.5: 5,\n",
    "        1.6: 6,\n",
    "        1.7: 7,\n",
    "        1.8: 8,\n",
    "        1.9: 9,\n",
    "        2.0: 10,\n",
    "        2.1: 11,\n",
    "        2.2: 12,\n",
    "        2.3: 13,\n",
    "        2.4: 14,\n",
    "        2.5: 15,\n",
    "        2.6: 16,\n",
    "        2.7: 17,\n",
    "        2.8: 18,\n",
    "        2.9: 19,\n",
    "        3.0: 20,\n",
    "        3.1: 21,\n",
    "        3.2: 22,\n",
    "        3.3: 23,\n",
    "        3.4: 24,\n",
    "        3.5: 25,\n",
    "        3.6: 26,\n",
    "        3.7: 27,\n",
    "        3.8: 28,\n",
    "        3.9: 29,\n",
    "        4.0: 30,\n",
    "        4.1: 31,\n",
    "        4.2: 32,\n",
    "        4.3: 33,\n",
    "        4.4: 34,\n",
    "        4.5: 35,\n",
    "        4.6: 36,\n",
    "        4.7: 37,\n",
    "        4.8: 38,\n",
    "        4.9: 39,\n",
    "        5.0: 40,\n",
    "    }[x]"
   ]
  },
  {
   "cell_type": "code",
   "execution_count": 29,
   "metadata": {},
   "outputs": [],
   "source": [
    "name = \"taniaksiazka-pl\"\n",
    "baseLink = \"https://www.opineo.pl/opinie/\"+name\n",
    "sentiment = \",pozytywne\"\n",
    "numberOfPages = 1000"
   ]
  },
  {
   "cell_type": "code",
   "execution_count": 30,
   "metadata": {},
   "outputs": [
    {
     "name": "stdout",
     "output_type": "stream",
     "text": [
      "Wall time: 12min 24s\n"
     ]
    }
   ],
   "source": [
    "%%time\n",
    "numberOfSamples = loadNumberOfSamples()\n",
    "ratings=[]\n",
    "reviews=[]\n",
    "for i in range (1, numberOfPages):\n",
    "    page = baseLink+\"/\"+str(i)+sentiment+\"#opinie\"\n",
    "    request = http.request('GET', page)\n",
    "    soup = BeautifulSoup(request.data, 'html.parser')\n",
    "    ratingsSpans = soup.find_all(\"span\", {\"class\": \"review_badge\"})   \n",
    "    reviewsDivs = soup.find_all(\"div\", {\"class\": \"revz_txt\"})\n",
    "    #print (i, len(reviewsDivs), len(ratingsSpans))\n",
    "    numberOfReviewsInPage = min (len(ratingsSpans),len(ratingsSpans))\n",
    "    #if (len(reviewsDivs) <= len(ratingsSpans)):\n",
    "    #   numberOfReviewsInPage = len(reviewsDivs)        \n",
    "    #else:\n",
    "    #    numberOfReviewsInPage = len(ratingsSpans)        \n",
    "    #if (len(reviewsDivs) ==  len(ratingsSpans)):\n",
    "    for j in range (0,numberOfReviewsInPage):\n",
    "        ratingTag = ratingsSpans[j].find_all(\"strong\")\n",
    "        reviewTag = reviewsDivs[j].find_all(\"span\")\n",
    "        numberOfTags = min(len(reviewTag), len(ratingTag))\n",
    "        #print(len(numberOfSamples))\n",
    "        for k in range (0,numberOfTags):   \n",
    "            #print(f(float(ratingTag[k].text))-1)\n",
    "            #print(numberOfSamples[39])\n",
    "            if (numberOfSamples[f(float(ratingTag[k].text))-1]<2000):\n",
    "                numberOfSamples[f(float(ratingTag[k].text))-1]+=1\n",
    "                ratings.append(ratingTag[k].text)    \n",
    "                reviews.append(reviewTag[k].text)    "
   ]
  },
  {
   "cell_type": "code",
   "execution_count": 31,
   "metadata": {},
   "outputs": [
    {
     "data": {
      "text/plain": [
       "[0,\n",
       " 0,\n",
       " 0,\n",
       " 0,\n",
       " 0,\n",
       " 0,\n",
       " 0,\n",
       " 0,\n",
       " 0,\n",
       " 0,\n",
       " 0,\n",
       " 0,\n",
       " 0,\n",
       " 0,\n",
       " 0,\n",
       " 0,\n",
       " 0,\n",
       " 0,\n",
       " 0,\n",
       " 0,\n",
       " 0,\n",
       " 168,\n",
       " 0,\n",
       " 0,\n",
       " 280,\n",
       " 0,\n",
       " 0,\n",
       " 395,\n",
       " 0,\n",
       " 1067,\n",
       " 0,\n",
       " 1122,\n",
       " 0,\n",
       " 0,\n",
       " 2000,\n",
       " 0,\n",
       " 0,\n",
       " 2000,\n",
       " 0,\n",
       " 2000]"
      ]
     },
     "execution_count": 31,
     "metadata": {},
     "output_type": "execute_result"
    }
   ],
   "source": [
    "numberOfSamples"
   ]
  },
  {
   "cell_type": "code",
   "execution_count": 32,
   "metadata": {},
   "outputs": [],
   "source": [
    "saveNumberOfSamples()\n",
    "saveSamplesToCSV()"
   ]
  }
 ],
 "metadata": {
  "kernelspec": {
   "display_name": "Python 3",
   "language": "python",
   "name": "python3"
  },
  "language_info": {
   "codemirror_mode": {
    "name": "ipython",
    "version": 3
   },
   "file_extension": ".py",
   "mimetype": "text/x-python",
   "name": "python",
   "nbconvert_exporter": "python",
   "pygments_lexer": "ipython3",
   "version": "3.6.10"
  }
 },
 "nbformat": 4,
 "nbformat_minor": 4
}
