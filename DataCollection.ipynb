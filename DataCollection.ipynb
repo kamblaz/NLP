{
 "cells": [
  {
   "cell_type": "code",
   "execution_count": 104,
   "metadata": {},
   "outputs": [],
   "source": [
    "import urllib3\n",
    "from bs4 import BeautifulSoup\n",
    "import unicodecsv as csv"
   ]
  },
  {
   "cell_type": "code",
   "execution_count": 105,
   "metadata": {},
   "outputs": [],
   "source": [
    "http = urllib3.PoolManager()"
   ]
  },
  {
   "cell_type": "code",
   "execution_count": 106,
   "metadata": {},
   "outputs": [],
   "source": [
    "baseLink = \"https://www.opineo.pl/opinie/topestetic\""
   ]
  },
  {
   "cell_type": "code",
   "execution_count": 109,
   "metadata": {},
   "outputs": [],
   "source": [
    "ratings=[]\n",
    "reviews=[]\n",
    "for i in range (1, 5):\n",
    "    page = baseLink+\"/\"+str(i)+\"#opinie\"\n",
    "    request = http.request('GET', page)\n",
    "    soup = BeautifulSoup(request.data, 'html.parser')\n",
    "    ratingsSpans = soup.find_all(\"span\", {\"class\": \"review_badge pos\"})   \n",
    "    reviewsDivs = soup.find_all(\"div\", {\"class\": \"revz_txt wo\"})\n",
    "    for j in range (0,len(reviewsDivs)):\n",
    "        ratingTag = ratingsSpans[j].find_all(\"strong\")\n",
    "        reviewTag = reviewsDivs[j].find_all(\"span\")\n",
    "        for k in range (0,len(reviewTag)):           \n",
    "            ratings.append(ratingTag[k].text)    \n",
    "            reviews.append(reviewTag[k].text)    "
   ]
  },
  {
   "cell_type": "code",
   "execution_count": 110,
   "metadata": {},
   "outputs": [],
   "source": [
    "with open('data.csv', 'wb') as f:\n",
    "    writer = csv.writer(f, encoding='utf-8')\n",
    "    writer.writerow(('Rating', 'Review'))\n",
    "    for i in range (0, len(reviews)):\n",
    "        writer.writerow([ratings[i], reviews[i]])"
   ]
  }
 ],
 "metadata": {
  "kernelspec": {
   "display_name": "Python 3",
   "language": "python",
   "name": "python3"
  },
  "language_info": {
   "codemirror_mode": {
    "name": "ipython",
    "version": 3
   },
   "file_extension": ".py",
   "mimetype": "text/x-python",
   "name": "python",
   "nbconvert_exporter": "python",
   "pygments_lexer": "ipython3",
   "version": "3.6.10"
  }
 },
 "nbformat": 4,
 "nbformat_minor": 4
}
