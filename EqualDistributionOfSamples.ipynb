{
 "cells": [
  {
   "cell_type": "markdown",
   "metadata": {
    "colab_type": "text",
    "id": "T38hrerpErjZ"
   },
   "source": [
    "## Imports"
   ]
  },
  {
   "cell_type": "code",
   "execution_count": 1,
   "metadata": {
    "colab": {},
    "colab_type": "code",
    "id": "ZXanaT_NErjc",
    "outputId": "52d11e59-a07a-4f87-f1d2-aff667eab719"
   },
   "outputs": [],
   "source": [
    "import matplotlib.pyplot as plt\n",
    "import tensorflow as tf\n",
    "import numpy as np\n",
    "import os\n",
    "import glob\n",
    "from scipy.spatial.distance import cdist\n",
    "from keras.models import Sequential\n",
    "from keras.layers import Dense, GRU, Embedding,LSTM\n",
    "from keras.optimizers import Adam\n",
    "from keras.preprocessing.text import Tokenizer\n",
    "from keras.preprocessing.sequence import pad_sequences\n",
    "import pickle\n",
    "import csv\n",
    "import pandas as pd"
   ]
  },
  {
   "cell_type": "code",
   "execution_count": 2,
   "metadata": {},
   "outputs": [],
   "source": [
    "def load_data_from_csv(filename):    \n",
    "    with open(filename, newline='', encoding=\"utf-8\") as f:\n",
    "        reader = csv.reader(f)\n",
    "        data = list(reader)\n",
    "    df = pd.read_csv(filename)\n",
    "    rates = df['rate'].tolist()\n",
    "    reviews = df['review'].tolist()\n",
    "    return reviews,rates"
   ]
  },
  {
   "cell_type": "code",
   "execution_count": 3,
   "metadata": {},
   "outputs": [
    {
     "name": "stdout",
     "output_type": "stream",
     "text": [
      "Set size:  50000\n"
     ]
    }
   ],
   "source": [
    "xall,yall = load_data_from_csv('data1-10.csv')\n",
    "print(\"Set size: \", len(xall))"
   ]
  },
  {
   "cell_type": "code",
   "execution_count": 4,
   "metadata": {},
   "outputs": [],
   "source": [
    "def count_number_of_samples_for_each_class(yall):\n",
    "    numberOfSamples = [yall.count(1), yall.count(2), yall.count(3), yall.count(4), yall.count(7), yall.count(8),yall.count(9),yall.count(10)]\n",
    "    return numberOfSamples"
   ]
  },
  {
   "cell_type": "code",
   "execution_count": 5,
   "metadata": {},
   "outputs": [
    {
     "data": {
      "text/plain": [
       "[10122, 4586, 4961, 5331, 4802, 5859, 4607, 9731]"
      ]
     },
     "execution_count": 5,
     "metadata": {},
     "output_type": "execute_result"
    }
   ],
   "source": [
    "distribution=count_number_of_samples_for_each_class(yall)\n",
    "distribution"
   ]
  },
  {
   "cell_type": "code",
   "execution_count": 6,
   "metadata": {},
   "outputs": [],
   "source": [
    "#Find indices for specific value\n",
    "def indices(lst, element):\n",
    "    result = []\n",
    "    offset = -1\n",
    "    while True:\n",
    "        try:\n",
    "            offset = lst.index(element, offset+1)\n",
    "        except ValueError:\n",
    "            return result\n",
    "        result.append(offset)"
   ]
  },
  {
   "cell_type": "code",
   "execution_count": 7,
   "metadata": {},
   "outputs": [],
   "source": [
    "#Delete list of indices\n",
    "def deleteBasedOnIndicesList(org_lst_x, org_lst_y):\n",
    "    distri=count_number_of_samples_for_each_class(org_lst_y)\n",
    "    rarest_note = min(distri)\n",
    "    rarest_note_ind = distri.index(rarest_note)\n",
    "    elements_yall=[1,2,3,4,7,8,9,10]\n",
    "    del elements_yall[rarest_note_ind]\n",
    "    del distri[rarest_note_ind]\n",
    "    \n",
    "    for element in range(0, len(elements_yall)):\n",
    "        ind_lst = indices(org_lst_y, elements_yall[element])\n",
    "        del_number=distri[element]-rarest_note\n",
    "        i = 0\n",
    "        while i<del_number:\n",
    "            del org_lst_x[ind_lst[i]]\n",
    "            del org_lst_y[ind_lst[i]]\n",
    "            for j in range(0,len(ind_lst)):\n",
    "                ind_lst[j]=ind_lst[j]-1\n",
    "            i+=1"
   ]
  },
  {
   "cell_type": "code",
   "execution_count": 8,
   "metadata": {},
   "outputs": [
    {
     "name": "stdout",
     "output_type": "stream",
     "text": [
      "Wall time: 15.4 s\n"
     ]
    },
    {
     "data": {
      "text/plain": [
       "[4586, 4586, 4586, 4586, 4586, 4586, 4586, 4586]"
      ]
     },
     "execution_count": 8,
     "metadata": {},
     "output_type": "execute_result"
    }
   ],
   "source": [
    "%%time\n",
    "deleteBasedOnIndicesList(xall, yall)\n",
    "distribution=count_number_of_samples_for_each_class(yall)\n",
    "distribution"
   ]
  },
  {
   "cell_type": "code",
   "execution_count": 9,
   "metadata": {},
   "outputs": [
    {
     "data": {
      "text/plain": [
       "array([[0., 0., 0., ..., 0., 1., 0.],\n",
       "       [0., 0., 0., ..., 0., 1., 0.],\n",
       "       [0., 0., 0., ..., 0., 1., 0.],\n",
       "       ...,\n",
       "       [0., 0., 1., ..., 0., 0., 0.],\n",
       "       [1., 0., 0., ..., 0., 0., 0.],\n",
       "       [1., 0., 0., ..., 0., 0., 0.]], dtype=float32)"
      ]
     },
     "execution_count": 9,
     "metadata": {},
     "output_type": "execute_result"
    }
   ],
   "source": [
    "########################################################\n",
    "from keras.utils import to_categorical\n",
    "\n",
    "for i in range(0,len(yall)):\n",
    "    yall[i]=yall[i]-1\n",
    "    \n",
    "yall=to_categorical(yall)\n",
    "yall\n",
    "#############################"
   ]
  },
  {
   "cell_type": "code",
   "execution_count": 10,
   "metadata": {},
   "outputs": [],
   "source": [
    "import nltk\n",
    "from nltk.corpus import stopwords\n",
    "from nltk.tokenize import word_tokenize\n",
    "import re"
   ]
  },
  {
   "cell_type": "code",
   "execution_count": 11,
   "metadata": {},
   "outputs": [
    {
     "name": "stdout",
     "output_type": "stream",
     "text": [
      "I love horror films think work way better hide dramatic impact behind The Devil Backbone The Exorcist example This kind film eerie terrifying also really beautiful Tale Two Sisters starts really slow hurry see ghosts first 20 minutes disappointed Actually ghost story though It something complex done way beats Ringu The Grudge ring sweat Tale way clever film huge cultural hits really cares characters direction flawless Every detail film leave breathless kind person loves pay attention details watching movie The acting superb specially stepmother main girl Those two worth price ticket alone Do favor watch awesome film\n"
     ]
    }
   ],
   "source": [
    "stop_words = set(stopwords.words('english'))\n",
    "processed_reviews = []\n",
    "single_review = \"string to iniialize <br /> my email id is charilie@waoow.com. You can also reach to me at charlie's\"\n",
    "\n",
    "for review in range(0,len(yall)):\n",
    "    single_review = xall[review]\n",
    "    \n",
    "    #removing html tags:\n",
    "    single_review = re.sub('<.*?>',' ',single_review)\n",
    "    #removing special characters (punctuation) '@,!' e.t.c.\n",
    "    single_review = re.sub('\\W',' ',single_review)\n",
    "    #removing single characters\n",
    "    single_review = re.sub('\\s+[a-zA-Z]\\s+',' ', single_review)\n",
    "    #substituting multiple spaces with single space\n",
    "    single_review = re.sub('\\s+',' ', single_review)\n",
    "    \n",
    "    #removing stop words\n",
    "    word_tokens = word_tokenize(single_review)\n",
    "    \n",
    "    filtered_sentence = \" \".join([w for w in word_tokens if w not in stop_words])\n",
    "    #compile all the sentences to make a complete dictionary of processed reviews\n",
    "    processed_reviews.append(filtered_sentence)\n",
    "    \n",
    "print(processed_reviews[0])"
   ]
  },
  {
   "cell_type": "code",
   "execution_count": 12,
   "metadata": {},
   "outputs": [
    {
     "name": "stdout",
     "output_type": "stream",
     "text": [
      "Train-set size:  29351\n",
      "Test-set size:   7338\n"
     ]
    }
   ],
   "source": [
    "from sklearn.model_selection import train_test_split\n",
    "x_train_text, x_test_text, y_train, y_test = train_test_split(processed_reviews,yall,test_size=0.2,random_state=42)\n",
    "print(\"Train-set size: \", len(x_train_text))\n",
    "print(\"Test-set size:  \", len(x_test_text))"
   ]
  },
  {
   "cell_type": "code",
   "execution_count": 1,
   "metadata": {
    "colab": {},
    "colab_type": "code",
    "id": "CPfric20Erk8"
   },
   "outputs": [
    {
     "ename": "NameError",
     "evalue": "name 'x_train' is not defined",
     "output_type": "error",
     "traceback": [
      "\u001b[1;31m---------------------------------------------------------------------------\u001b[0m",
      "\u001b[1;31mNameError\u001b[0m                                 Traceback (most recent call last)",
      "\u001b[1;32m<ipython-input-1-88055f389a71>\u001b[0m in \u001b[0;36m<module>\u001b[1;34m\u001b[0m\n\u001b[1;32m----> 1\u001b[1;33m \u001b[0mdata_text\u001b[0m \u001b[1;33m=\u001b[0m \u001b[0mx_train\u001b[0m \u001b[1;33m+\u001b[0m \u001b[0mx_test\u001b[0m\u001b[1;33m\u001b[0m\u001b[1;33m\u001b[0m\u001b[0m\n\u001b[0m\u001b[0;32m      2\u001b[0m \u001b[0mnum_words\u001b[0m \u001b[1;33m=\u001b[0m \u001b[1;36m10000\u001b[0m\u001b[1;33m\u001b[0m\u001b[1;33m\u001b[0m\u001b[0m\n\u001b[0;32m      3\u001b[0m \u001b[0mtokenizer\u001b[0m \u001b[1;33m=\u001b[0m \u001b[0mTokenizer\u001b[0m\u001b[1;33m(\u001b[0m\u001b[0mnum_words\u001b[0m\u001b[1;33m=\u001b[0m\u001b[0mnum_words\u001b[0m\u001b[1;33m)\u001b[0m\u001b[1;33m\u001b[0m\u001b[1;33m\u001b[0m\u001b[0m\n\u001b[0;32m      4\u001b[0m \u001b[0mtokenizer\u001b[0m\u001b[1;33m.\u001b[0m\u001b[0mfit_on_texts\u001b[0m\u001b[1;33m(\u001b[0m\u001b[0mdata_text\u001b[0m\u001b[1;33m)\u001b[0m\u001b[1;33m\u001b[0m\u001b[1;33m\u001b[0m\u001b[0m\n\u001b[0;32m      5\u001b[0m \u001b[1;31m#tokenizer.word_index\u001b[0m\u001b[1;33m\u001b[0m\u001b[1;33m\u001b[0m\u001b[1;33m\u001b[0m\u001b[0m\n",
      "\u001b[1;31mNameError\u001b[0m: name 'x_train' is not defined"
     ]
    }
   ],
   "source": [
    "data_text = x_train_text + x_test_text\n",
    "num_words = 10000\n",
    "tokenizer = Tokenizer(num_words=num_words)\n",
    "tokenizer.fit_on_texts(data_text)\n",
    "#tokenizer.word_index\n",
    "x_train_tokens = tokenizer.texts_to_sequences(x_train_text)\n",
    "x_test_tokens = tokenizer.texts_to_sequences(x_test_text)\n",
    "num_tokens = [len(tokens) for tokens in x_train_tokens + x_test_tokens]\n",
    "num_tokens = np.array(num_tokens)"
   ]
  },
  {
   "cell_type": "code",
   "execution_count": 14,
   "metadata": {
    "colab": {},
    "colab_type": "code",
    "id": "LDO-7jrYErm3",
    "outputId": "2d42f001-e38b-443f-d56a-0b392e35dd94"
   },
   "outputs": [
    {
     "data": {
      "text/plain": [
       "118.20548393251383"
      ]
     },
     "execution_count": 14,
     "metadata": {},
     "output_type": "execute_result"
    }
   ],
   "source": [
    "np.mean(num_tokens)"
   ]
  },
  {
   "cell_type": "code",
   "execution_count": 15,
   "metadata": {
    "colab": {},
    "colab_type": "code",
    "id": "YSv5fZdvErm-",
    "outputId": "1565e3c0-f7dd-4812-b0d6-b69fe356965a"
   },
   "outputs": [
    {
     "data": {
      "text/plain": [
       "1158"
      ]
     },
     "execution_count": 15,
     "metadata": {},
     "output_type": "execute_result"
    }
   ],
   "source": [
    "np.max(num_tokens)"
   ]
  },
  {
   "cell_type": "code",
   "execution_count": 16,
   "metadata": {
    "colab": {},
    "colab_type": "code",
    "id": "LReoSdCpErnE",
    "outputId": "1308f52d-7861-4d3b-98d8-1ba04b8f9a02"
   },
   "outputs": [
    {
     "data": {
      "text/plain": [
       "288"
      ]
     },
     "execution_count": 16,
     "metadata": {},
     "output_type": "execute_result"
    }
   ],
   "source": [
    "max_tokens = np.mean(num_tokens) + 2 * np.std(num_tokens)\n",
    "max_tokens = int(max_tokens)\n",
    "max_tokens"
   ]
  },
  {
   "cell_type": "code",
   "execution_count": 17,
   "metadata": {
    "colab": {},
    "colab_type": "code",
    "id": "Vntz5mtdErng"
   },
   "outputs": [],
   "source": [
    "pad = 'pre'\n",
    "x_train_pad = pad_sequences(x_train_tokens, maxlen=max_tokens,\n",
    "                            padding=pad, truncating=pad)\n",
    "\n",
    "x_test_pad = pad_sequences(x_test_tokens, maxlen=max_tokens,\n",
    "                           padding=pad, truncating=pad)"
   ]
  },
  {
   "cell_type": "code",
   "execution_count": 13,
   "metadata": {},
   "outputs": [],
   "source": [
    "#from sklearn import preprocessing\n",
    "#x_train_pad = preprocessing.scale(x_train_pad)\n",
    "#x_test_pad = preprocessing.scale(x_test_pad)"
   ]
  },
  {
   "cell_type": "code",
   "execution_count": 18,
   "metadata": {
    "colab": {},
    "colab_type": "code",
    "id": "tdzEJH4HErnt",
    "outputId": "95079dfe-8493-4d23-fc33-a03936d77c12"
   },
   "outputs": [
    {
     "data": {
      "text/plain": [
       "(29351, 288)"
      ]
     },
     "execution_count": 18,
     "metadata": {},
     "output_type": "execute_result"
    }
   ],
   "source": [
    "x_train_pad.shape"
   ]
  },
  {
   "cell_type": "code",
   "execution_count": 19,
   "metadata": {
    "colab": {},
    "colab_type": "code",
    "id": "lWs9qmFrErn1",
    "outputId": "9b2d910e-cae9-488f-9488-cb913a9befbf",
    "scrolled": true
   },
   "outputs": [
    {
     "data": {
      "text/plain": [
       "(7338, 288)"
      ]
     },
     "execution_count": 19,
     "metadata": {},
     "output_type": "execute_result"
    }
   ],
   "source": [
    "x_test_pad.shape"
   ]
  },
  {
   "cell_type": "code",
   "execution_count": 20,
   "metadata": {
    "colab": {},
    "colab_type": "code",
    "id": "-ZUM3gBnEroR"
   },
   "outputs": [],
   "source": [
    "idx = tokenizer.word_index\n",
    "inverse_map = dict(zip(idx.values(), idx.keys()))"
   ]
  },
  {
   "cell_type": "code",
   "execution_count": 21,
   "metadata": {
    "colab": {},
    "colab_type": "code",
    "id": "tADzVVW7Ero2"
   },
   "outputs": [],
   "source": [
    "model = Sequential()"
   ]
  },
  {
   "cell_type": "code",
   "execution_count": 22,
   "metadata": {
    "colab": {},
    "colab_type": "code",
    "id": "QDc9llG_ErpA"
   },
   "outputs": [],
   "source": [
    "embedding_size = 8"
   ]
  },
  {
   "cell_type": "code",
   "execution_count": 23,
   "metadata": {
    "colab": {},
    "colab_type": "code",
    "id": "G_DkycySErpH"
   },
   "outputs": [],
   "source": [
    "model.add(Embedding(input_dim=num_words,\n",
    "                    output_dim=embedding_size,\n",
    "                    input_length=max_tokens,\n",
    "                    name='layer_embedding'))\n",
    "#model.add(LSTM(units=64, return_sequences=True))\n",
    "#model.add(LSTM(units=32, return_sequences=True))\n",
    "#model.add(LSTM(units=16, return_sequences=True))\n",
    "#model.add(LSTM(units=8, return_sequences=True))\n",
    "model.add(LSTM(units=10))\n",
    "model.add(Dense(10, activation='softmax'))\n",
    "optimizer = Adam(lr=0.01)"
   ]
  },
  {
   "cell_type": "code",
   "execution_count": 24,
   "metadata": {
    "colab": {},
    "colab_type": "code",
    "id": "edclRAJyErpn",
    "outputId": "d121b9d8-3fd8-4a01-9dcc-4aa20aa96cc0"
   },
   "outputs": [],
   "source": [
    "model.compile(loss='categorical_crossentropy',\n",
    "              optimizer=optimizer,\n",
    "              metrics=['acc'])"
   ]
  },
  {
   "cell_type": "code",
   "execution_count": 25,
   "metadata": {
    "colab": {},
    "colab_type": "code",
    "id": "Juk3qPOhErpu",
    "outputId": "7d74b15a-9a4d-45dd-aefc-6d974a5f9e60"
   },
   "outputs": [
    {
     "name": "stdout",
     "output_type": "stream",
     "text": [
      "Model: \"sequential\"\n",
      "_________________________________________________________________\n",
      "Layer (type)                 Output Shape              Param #   \n",
      "=================================================================\n",
      "layer_embedding (Embedding)  (None, 288, 8)            80000     \n",
      "_________________________________________________________________\n",
      "lstm (LSTM)                  (None, 10)                760       \n",
      "_________________________________________________________________\n",
      "dense (Dense)                (None, 10)                110       \n",
      "=================================================================\n",
      "Total params: 80,870\n",
      "Trainable params: 80,870\n",
      "Non-trainable params: 0\n",
      "_________________________________________________________________\n"
     ]
    }
   ],
   "source": [
    "model.summary()"
   ]
  },
  {
   "cell_type": "code",
   "execution_count": 26,
   "metadata": {
    "colab": {},
    "colab_type": "code",
    "id": "sQIWIvfCErpz",
    "outputId": "26897b0a-4843-4d00-fa14-c719be65c6c8",
    "scrolled": true
   },
   "outputs": [
    {
     "name": "stdout",
     "output_type": "stream",
     "text": [
      "Epoch 1/10\n",
      "3486/3486 [==============================] - 183s 52ms/step - loss: 1.6856 - acc: 0.2873 - val_loss: 1.5386 - val_acc: 0.3583\n",
      "Epoch 2/10\n",
      "3486/3486 [==============================] - 183s 52ms/step - loss: 1.3975 - acc: 0.4149 - val_loss: 1.4830 - val_acc: 0.3958\n",
      "Epoch 3/10\n",
      "3486/3486 [==============================] - 178s 51ms/step - loss: 1.2515 - acc: 0.4808 - val_loss: 1.5442 - val_acc: 0.3787\n",
      "Epoch 4/10\n",
      "3486/3486 [==============================] - 178s 51ms/step - loss: 1.1400 - acc: 0.5304 - val_loss: 1.6177 - val_acc: 0.3815\n",
      "Epoch 5/10\n",
      "3486/3486 [==============================] - 168s 48ms/step - loss: 1.0490 - acc: 0.5756 - val_loss: 1.7685 - val_acc: 0.3508\n",
      "Epoch 6/10\n",
      "3486/3486 [==============================] - 166s 48ms/step - loss: 0.9733 - acc: 0.6094 - val_loss: 1.8911 - val_acc: 0.3610\n",
      "Epoch 7/10\n",
      "3486/3486 [==============================] - 166s 48ms/step - loss: 0.9154 - acc: 0.6410 - val_loss: 1.9695 - val_acc: 0.3706\n",
      "Epoch 8/10\n",
      "3486/3486 [==============================] - 166s 48ms/step - loss: 0.8638 - acc: 0.6566 - val_loss: 2.0522 - val_acc: 0.3869\n",
      "Epoch 9/10\n",
      "3486/3486 [==============================] - 172s 49ms/step - loss: 0.8182 - acc: 0.6787 - val_loss: 2.2008 - val_acc: 0.3542\n",
      "Epoch 10/10\n",
      "3486/3486 [==============================] - 194s 56ms/step - loss: 0.7848 - acc: 0.6935 - val_loss: 2.2839 - val_acc: 0.3556\n",
      "Wall time: 29min 16s\n"
     ]
    },
    {
     "data": {
      "text/plain": [
       "<tensorflow.python.keras.callbacks.History at 0x18e28b50>"
      ]
     },
     "execution_count": 26,
     "metadata": {},
     "output_type": "execute_result"
    }
   ],
   "source": [
    "%%time\n",
    "y_train=np.array(y_train)\n",
    "model.fit(x_train_pad, y_train, validation_split=0.05, epochs=10, batch_size=8)"
   ]
  },
  {
   "cell_type": "code",
   "execution_count": 27,
   "metadata": {
    "colab": {},
    "colab_type": "code",
    "id": "jN3E9TOGErp2",
    "outputId": "c07fbd7a-7f89-4c63-a634-f6601b53b91c"
   },
   "outputs": [
    {
     "name": "stdout",
     "output_type": "stream",
     "text": [
      "230/230 [==============================] - 3s 11ms/step - loss: 2.3295 - acc: 0.3509\n",
      "Wall time: 2.69 s\n"
     ]
    }
   ],
   "source": [
    "%%time\n",
    "y_test=np.array(y_test)\n",
    "result = model.evaluate(x_test_pad, y_test)"
   ]
  },
  {
   "cell_type": "code",
   "execution_count": 28,
   "metadata": {
    "colab": {},
    "colab_type": "code",
    "id": "dMUrGwYdErp8",
    "outputId": "264f7de7-f9b2-4dd5-97d0-6ab5d185bcb1"
   },
   "outputs": [
    {
     "name": "stdout",
     "output_type": "stream",
     "text": [
      "Accuracy: 35.09%\n"
     ]
    }
   ],
   "source": [
    "print(\"Accuracy: {0:.2%}\".format(result[1]))"
   ]
  },
  {
   "cell_type": "code",
   "execution_count": 29,
   "metadata": {
    "colab": {},
    "colab_type": "code",
    "id": "0wzSrjt5ErqC",
    "outputId": "8121bf5a-f4c0-4978-ed05-46a9cd9e71e1"
   },
   "outputs": [
    {
     "name": "stdout",
     "output_type": "stream",
     "text": [
      "WARNING:tensorflow:From D:\\ProgramData\\anaconda3\\envs\\tf\\lib\\site-packages\\tensorflow\\python\\training\\tracking\\tracking.py:111: Model.state_updates (from tensorflow.python.keras.engine.training) is deprecated and will be removed in a future version.\n",
      "Instructions for updating:\n",
      "This property should not be used in TensorFlow 2.0, as updates are applied automatically.\n",
      "WARNING:tensorflow:From D:\\ProgramData\\anaconda3\\envs\\tf\\lib\\site-packages\\tensorflow\\python\\training\\tracking\\tracking.py:111: Layer.updates (from tensorflow.python.keras.engine.base_layer) is deprecated and will be removed in a future version.\n",
      "Instructions for updating:\n",
      "This property should not be used in TensorFlow 2.0, as updates are applied automatically.\n",
      "INFO:tensorflow:Assets written to: Model_Equal_Distribution_10epochs\\assets\n"
     ]
    }
   ],
   "source": [
    "##Saving and loading model\n",
    "model.save(\"Model_Equal_Distribution_10epochs\")\n",
    "#import keras\n",
    "#model = keras.models.load_model(\"Model_Equal_Distribution_10epochs\")"
   ]
  },
  {
   "cell_type": "code",
   "execution_count": 30,
   "metadata": {},
   "outputs": [],
   "source": [
    "#exampleReview=\"I had high expectations for this movie. When I saw Shrek 2, I was pleasantly surprised. Few sequels are as good as the original, but Shrek 2 was. Shrek the third did not continue this trend. While there were sill plenty of funny moments, it was nowhere near as amusing or original as the first two. They could have done so much more with this movie if they had tried. At the end, I felt sort of cheated. However, Shek the third isnt a bad movie in itself, only when compared to the others. I would still recommend going to see it. Unlike most, I liked Arties character, even if he did talk too much (Im not even a Justin Timberlake fan).\"\n",
    "#10\n",
    "#exampleReview=\"The Godfather: Part II is a very suspenseful drama with a very exciting story, with great acting and great special effects. I would definitely recommend you watch this movie...but first watch the original classic from 1972 The Godfather . The movie may not be as good as the first movie but is still an amazing sequel.\"\n",
    "#7\n",
    "exampleReview=\"If you like Karate, you will love this. I like the fight scenes, and the bad guy in the film is always a bad guy in Karate movies. ( ie Enter The Dragon) It is a bit sloppy in spots, but considering the budget you can not hit this film too hard. It is a good film to see if your mad or angry at someone.\"\n",
    "#1\n",
    "#exampleReview=\"If I thought the overlong, frightfully dull Avatar contained and rehashed every Hollywood cliché ever used, albeit in blue, Prince of Persia: Sands of Time runs the gamut of every mindless Hollywood action-feature effect, computerized or not, and even as an admittedly escapism event, it falls short of any intended mark. It is obvious that there is little new under the Hollywood sun. Frankly, 1942's Arabian Nights did this plot line much better and Shemp Howard, of Three Stooges fame, surpassed Alfred Molina's deadly dull and ineffective attempt at humor. Jake Gyllenhaal, in spite of much daring-do stunts and macho posturing, is still not the virile stud hero that his handlers are trying to turn him into, and Arterton's clichéd bitchy dialog becomes tedious after 10 minutes. It's a shallow waste of time from beginning to end and how Ben Kingsley could keep a straight face throughout this loud, noisy romp is a testament to his enormous experience in front of a camera.\"\n",
    "#6\n",
    "#exampleReview=\"Reading some of the harsh reviews I thought I would comment. The big disappointment for me in the movie was the lack of gore , fox did get it wrong to make it a pg13 even though they tried to substitute it with monster gore. All that being said this movie is a visual master-peace, the effects are top notch with very good fight scenes and creature effects with the best looking Alien Queen to hit the screens, The story is pretty cool and it gives more insight of the Predators, It takes a while for the introduction of the creatures but once the ball is rolling its none stop action. Not the horror feast we all wanted but fun.\"\n",
    "#3\n",
    "#exampleReview=\"In this final chapter of the ROCKY series, the Italian Stallion, now broke and brain damaged from his last fight, faces a promoter who wants him to do another bout, an amateur boxer whom he agrees to train, and his own son who starts to feel neglected. This time around, even Stallone gives a weak performance, and Tommy Morrison fails to make an impression as Rocky's Robot Tommy Gunn. Sly's real-life son Sage, who plays Rocky Jr,, and Burgess Meredith's brief appearance as Mickey are the only characters with any interest. The bottom spot of the movie is the climaxing streetfight, which barely makes the film worth a watch.\""
   ]
  },
  {
   "cell_type": "code",
   "execution_count": 32,
   "metadata": {},
   "outputs": [
    {
     "name": "stdout",
     "output_type": "stream",
     "text": [
      "Wall time: 2.93 s\n"
     ]
    }
   ],
   "source": [
    "%%time\n",
    "y_pred = model.predict(x=x_test_pad)"
   ]
  },
  {
   "cell_type": "code",
   "execution_count": 33,
   "metadata": {},
   "outputs": [],
   "source": [
    "y_res=[]\n",
    "y_test_res=[]\n",
    "##pred\n",
    "for i in range(0,len(y_pred)):\n",
    "    rate=np.argmax(y_pred[i])\n",
    "    y_res.append(rate)\n",
    "\n",
    "for i in range(0,len(y_test)):\n",
    "    rate=np.argmax(y_test[i])\n",
    "    y_test_res.append(rate)"
   ]
  },
  {
   "cell_type": "code",
   "execution_count": 34,
   "metadata": {},
   "outputs": [
    {
     "data": {
      "image/png": "[encoded data removed]",
      "text/plain": [
       "<Figure size 432x288 with 2 Axes>"
      ]
     },
     "metadata": {
      "needs_background": "light"
     },
     "output_type": "display_data"
    }
   ],
   "source": [
    "from sklearn.metrics import confusion_matrix\n",
    "from sklearn.metrics import ConfusionMatrixDisplay\n",
    "cm=confusion_matrix(y_test_res,y_res)\n",
    "cm_display = ConfusionMatrixDisplay(cm).plot()"
   ]
  },
  {
   "cell_type": "code",
   "execution_count": null,
   "metadata": {},
   "outputs": [],
   "source": []
  }
 ],
 "metadata": {
  "colab": {
   "name": "20_Natural_Language_Processing.ipynb",
   "provenance": [],
   "version": "0.3.2"
  },
  "kernelspec": {
   "display_name": "Python 3",
   "language": "python",
   "name": "python3"
  },
  "language_info": {
   "codemirror_mode": {
    "name": "ipython",
    "version": 3
   },
   "file_extension": ".py",
   "mimetype": "text/x-python",
   "name": "python",
   "nbconvert_exporter": "python",
   "pygments_lexer": "ipython3",
   "version": "3.6.13"
  }
 },
 "nbformat": 4,
 "nbformat_minor": 1
}
