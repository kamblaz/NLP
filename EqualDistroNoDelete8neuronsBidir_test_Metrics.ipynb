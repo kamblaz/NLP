{
 "cells": [
  {
   "cell_type": "markdown",
   "metadata": {
    "colab_type": "text",
    "id": "T38hrerpErjZ"
   },
   "source": [
    "## Imports"
   ]
  },
  {
   "cell_type": "code",
   "execution_count": 1,
   "metadata": {
    "colab": {},
    "colab_type": "code",
    "id": "ZXanaT_NErjc",
    "outputId": "52d11e59-a07a-4f87-f1d2-aff667eab719"
   },
   "outputs": [
    {
     "name": "stderr",
     "output_type": "stream",
     "text": [
      "Using TensorFlow backend.\n"
     ]
    }
   ],
   "source": [
    "import matplotlib.pyplot as plt\n",
    "import tensorflow as tf\n",
    "import numpy as np\n",
    "import os\n",
    "import glob\n",
    "from scipy.spatial.distance import cdist\n",
    "from keras.models import Sequential\n",
    "from keras.layers import Dense, GRU, Embedding,LSTM\n",
    "from keras.optimizers import Adam\n",
    "from keras.preprocessing.text import Tokenizer\n",
    "from keras.preprocessing.sequence import pad_sequences\n",
    "import pickle\n",
    "import csv\n",
    "import pandas as pd"
   ]
  },
  {
   "cell_type": "code",
   "execution_count": 3,
   "metadata": {},
   "outputs": [],
   "source": [
    "def load_data_from_csv(filename):    \n",
    "    with open(filename, newline='', encoding=\"utf-8\") as f:\n",
    "        reader = csv.reader(f)\n",
    "        data = list(reader)\n",
    "    df = pd.read_csv(filename)\n",
    "    rates = df['rate'].tolist()\n",
    "    reviews = df['review'].tolist()\n",
    "    return reviews,rates"
   ]
  },
  {
   "cell_type": "code",
   "execution_count": 4,
   "metadata": {},
   "outputs": [
    {
     "name": "stdout",
     "output_type": "stream",
     "text": [
      "Set size:  50000\n",
      "Wall time: 2.43 s\n"
     ]
    }
   ],
   "source": [
    "%%time\n",
    "xall,yall = load_data_from_csv('data.csv')\n",
    "print(\"Set size: \", len(xall))"
   ]
  },
  {
   "cell_type": "code",
   "execution_count": 5,
   "metadata": {},
   "outputs": [],
   "source": [
    "def count_number_of_samples_for_each_class(yall):\n",
    "    numberOfSamples = [yall.count(1), yall.count(2), yall.count(3), yall.count(4), yall.count(7), yall.count(8),yall.count(9),yall.count(10)]\n",
    "    return numberOfSamples"
   ]
  },
  {
   "cell_type": "code",
   "execution_count": 6,
   "metadata": {},
   "outputs": [],
   "source": [
    "number_of_samples_for_each_class = count_number_of_samples_for_each_class(yall)"
   ]
  },
  {
   "cell_type": "code",
   "execution_count": 7,
   "metadata": {},
   "outputs": [
    {
     "data": {
      "text/plain": [
       "[10122, 4586, 4961, 5331, 4803, 5859, 4607, 9731]"
      ]
     },
     "execution_count": 7,
     "metadata": {},
     "output_type": "execute_result"
    }
   ],
   "source": [
    "number_of_samples_for_each_class"
   ]
  },
  {
   "cell_type": "code",
   "execution_count": 8,
   "metadata": {},
   "outputs": [],
   "source": [
    "def assign_weight(number_of_all_samples, number_of_clesses, number_of_samples_for_class):\n",
    "    return number_of_all_samples / (number_of_clesses * number_of_samples_for_class)"
   ]
  },
  {
   "cell_type": "code",
   "execution_count": 9,
   "metadata": {},
   "outputs": [],
   "source": [
    "def assign_weight_for_each_class(number_of_all_samples, number_of_samples_for_each_class):\n",
    "    weights = []\n",
    "    for i in range (0, len(number_of_samples_for_each_class)):    \n",
    "        x = assign_weight(number_of_all_samples, len(number_of_samples_for_each_class), number_of_samples_for_each_class[i])\n",
    "        weights.append(x)\n",
    "    return weights"
   ]
  },
  {
   "cell_type": "code",
   "execution_count": 10,
   "metadata": {},
   "outputs": [],
   "source": [
    "weights = assign_weight_for_each_class(len(yall), number_of_samples_for_each_class)"
   ]
  },
  {
   "cell_type": "code",
   "execution_count": 11,
   "metadata": {},
   "outputs": [
    {
     "data": {
      "text/plain": [
       "[0.6174669037739577,\n",
       " 1.3628434365460096,\n",
       " 1.2598266478532554,\n",
       " 1.1723879197148752,\n",
       " 1.3012700395586092,\n",
       " 1.0667349377026796,\n",
       " 1.3566312133709573,\n",
       " 0.64227725824684]"
      ]
     },
     "execution_count": 11,
     "metadata": {},
     "output_type": "execute_result"
    }
   ],
   "source": [
    "weights"
   ]
  },
  {
   "cell_type": "code",
   "execution_count": 12,
   "metadata": {},
   "outputs": [],
   "source": [
    "########################################################\n",
    "from keras.utils import to_categorical\n",
    "\n",
    "for i in range(0,50000):\n",
    "    yall[i]=yall[i]-1\n",
    "    \n",
    "yall=to_categorical(yall)\n",
    "\n",
    "index_to_delete = [4,5]\n",
    "updated_ys = []\n",
    "for i in range(0, len(yall)):\n",
    "    updated_y = np.delete(yall[i],index_to_delete)\n",
    "    updated_ys.append(updated_y)\n",
    "\n",
    "yall=np.asarray(updated_ys)\n",
    "#############################"
   ]
  },
  {
   "cell_type": "code",
   "execution_count": 13,
   "metadata": {},
   "outputs": [],
   "source": [
    "import nltk\n",
    "from nltk.corpus import stopwords\n",
    "from nltk.tokenize import word_tokenize\n",
    "import re"
   ]
  },
  {
   "cell_type": "code",
   "execution_count": 14,
   "metadata": {},
   "outputs": [
    {
     "name": "stdout",
     "output_type": "stream",
     "text": [
      "I went saw movie last night coaxed friends mine admit reluctant see knew Ashton Kutcher able comedy wrong Kutcher played character Jake Fischer well Kevin Costner played Ben Randall professionalism The sign good movie toy emotions This one exactly The entire theater sold overcome laughter first half movie moved tears second half While exiting theater saw many women tears many full grown men well trying desperately let anyone see crying This movie great suggest go see judge\n"
     ]
    }
   ],
   "source": [
    "stop_words = set(stopwords.words('english'))\n",
    "processed_reviews = []\n",
    "single_review = \"string to iniialize <br /> my email id is charilie@waoow.com. You can also reach to me at charlie's\"\n",
    "\n",
    "for review in range(0,50000):\n",
    "    single_review = xall[review]\n",
    "    \n",
    "    #removing html tags:\n",
    "    single_review = re.sub('<.*?>',' ',single_review)\n",
    "    #removing special characters (punctuation) '@,!' e.t.c.\n",
    "    single_review = re.sub('\\W',' ',single_review)\n",
    "    #removing single characters\n",
    "    single_review = re.sub('\\s+[a-zA-Z]\\s+',' ', single_review)\n",
    "    #substituting multiple spaces with single space\n",
    "    single_review = re.sub('\\s+',' ', single_review)\n",
    "    \n",
    "    #removing stop words\n",
    "    word_tokens = word_tokenize(single_review)\n",
    "    \n",
    "    filtered_sentence = \" \".join([w for w in word_tokens if w not in stop_words])\n",
    "    #compile all the sentences to make a complete dictionary of processed reviews\n",
    "    processed_reviews.append(filtered_sentence)\n",
    "    \n",
    "print(processed_reviews[0])"
   ]
  },
  {
   "cell_type": "code",
   "execution_count": 15,
   "metadata": {},
   "outputs": [
    {
     "name": "stdout",
     "output_type": "stream",
     "text": [
      "Train-set size:  40000\n",
      "Test-set size:   10000\n"
     ]
    }
   ],
   "source": [
    "from sklearn.model_selection import train_test_split\n",
    "x_train_text, x_test_text, y_train, y_test = train_test_split(processed_reviews,yall,test_size=0.2,random_state=42)\n",
    "print(\"Train-set size: \", len(x_train_text))\n",
    "print(\"Test-set size:  \", len(x_test_text))"
   ]
  },
  {
   "cell_type": "code",
   "execution_count": 42,
   "metadata": {
    "colab": {},
    "colab_type": "code",
    "id": "CPfric20Erk8"
   },
   "outputs": [],
   "source": [
    "data_text = x_train_text + x_test_text\n",
    "num_words = 5000\n",
    "tokenizer = Tokenizer(num_words=num_words)\n",
    "tokenizer.fit_on_texts(data_text)\n",
    "#tokenizer.word_index\n",
    "x_train_tokens = tokenizer.texts_to_sequences(x_train_text)\n",
    "x_test_tokens = tokenizer.texts_to_sequences(x_test_text)\n",
    "num_tokens = [len(tokens) for tokens in x_train_tokens + x_test_tokens]\n",
    "num_tokens = np.array(num_tokens)"
   ]
  },
  {
   "cell_type": "code",
   "execution_count": 43,
   "metadata": {
    "colab": {},
    "colab_type": "code",
    "id": "LDO-7jrYErm3",
    "outputId": "2d42f001-e38b-443f-d56a-0b392e35dd94"
   },
   "outputs": [
    {
     "data": {
      "text/plain": [
       "105.3403"
      ]
     },
     "execution_count": 43,
     "metadata": {},
     "output_type": "execute_result"
    }
   ],
   "source": [
    "np.mean(num_tokens)"
   ]
  },
  {
   "cell_type": "code",
   "execution_count": 44,
   "metadata": {
    "colab": {},
    "colab_type": "code",
    "id": "YSv5fZdvErm-",
    "outputId": "1565e3c0-f7dd-4812-b0d6-b69fe356965a"
   },
   "outputs": [
    {
     "data": {
      "text/plain": [
       "985"
      ]
     },
     "execution_count": 44,
     "metadata": {},
     "output_type": "execute_result"
    }
   ],
   "source": [
    "np.max(num_tokens)"
   ]
  },
  {
   "cell_type": "code",
   "execution_count": 45,
   "metadata": {
    "colab": {},
    "colab_type": "code",
    "id": "LReoSdCpErnE",
    "outputId": "1308f52d-7861-4d3b-98d8-1ba04b8f9a02"
   },
   "outputs": [
    {
     "data": {
      "text/plain": [
       "255"
      ]
     },
     "execution_count": 45,
     "metadata": {},
     "output_type": "execute_result"
    }
   ],
   "source": [
    "max_tokens = np.mean(num_tokens) + 2 * np.std(num_tokens)\n",
    "max_tokens = int(max_tokens)\n",
    "max_tokens"
   ]
  },
  {
   "cell_type": "code",
   "execution_count": 46,
   "metadata": {
    "colab": {},
    "colab_type": "code",
    "id": "Vntz5mtdErng"
   },
   "outputs": [],
   "source": [
    "pad = 'pre'\n",
    "x_train_pad = pad_sequences(x_train_tokens, maxlen=max_tokens,\n",
    "                            padding=pad, truncating=pad)\n",
    "\n",
    "x_test_pad = pad_sequences(x_test_tokens, maxlen=max_tokens,\n",
    "                           padding=pad, truncating=pad)"
   ]
  },
  {
   "cell_type": "code",
   "execution_count": 20,
   "metadata": {},
   "outputs": [],
   "source": [
    "#from sklearn import preprocessing\n",
    "#x_train_pad = preprocessing.scale(x_train_pad)\n",
    "#x_test_pad = preprocessing.scale(x_test_pad)"
   ]
  },
  {
   "cell_type": "code",
   "execution_count": 47,
   "metadata": {
    "colab": {},
    "colab_type": "code",
    "id": "tdzEJH4HErnt",
    "outputId": "95079dfe-8493-4d23-fc33-a03936d77c12"
   },
   "outputs": [
    {
     "data": {
      "text/plain": [
       "(40000, 255)"
      ]
     },
     "execution_count": 47,
     "metadata": {},
     "output_type": "execute_result"
    }
   ],
   "source": [
    "x_train_pad.shape"
   ]
  },
  {
   "cell_type": "code",
   "execution_count": 48,
   "metadata": {
    "colab": {},
    "colab_type": "code",
    "id": "lWs9qmFrErn1",
    "outputId": "9b2d910e-cae9-488f-9488-cb913a9befbf",
    "scrolled": true
   },
   "outputs": [
    {
     "data": {
      "text/plain": [
       "(10000, 255)"
      ]
     },
     "execution_count": 48,
     "metadata": {},
     "output_type": "execute_result"
    }
   ],
   "source": [
    "x_test_pad.shape"
   ]
  },
  {
   "cell_type": "code",
   "execution_count": 49,
   "metadata": {
    "colab": {},
    "colab_type": "code",
    "id": "-ZUM3gBnEroR"
   },
   "outputs": [],
   "source": [
    "idx = tokenizer.word_index\n",
    "inverse_map = dict(zip(idx.values(), idx.keys()))"
   ]
  },
  {
   "cell_type": "code",
   "execution_count": 50,
   "metadata": {
    "colab": {},
    "colab_type": "code",
    "id": "tADzVVW7Ero2"
   },
   "outputs": [],
   "source": [
    "model = Sequential()"
   ]
  },
  {
   "cell_type": "code",
   "execution_count": 51,
   "metadata": {},
   "outputs": [
    {
     "data": {
      "text/plain": [
       "[0.6174669037739577,\n",
       " 1.3628434365460096,\n",
       " 1.2598266478532554,\n",
       " 1.1723879197148752,\n",
       " 1.3012700395586092,\n",
       " 1.0667349377026796,\n",
       " 1.3566312133709573,\n",
       " 0.64227725824684]"
      ]
     },
     "execution_count": 51,
     "metadata": {},
     "output_type": "execute_result"
    }
   ],
   "source": [
    "weights"
   ]
  },
  {
   "cell_type": "code",
   "execution_count": 52,
   "metadata": {
    "colab": {},
    "colab_type": "code",
    "id": "QDc9llG_ErpA"
   },
   "outputs": [],
   "source": [
    "embedding_size = 64"
   ]
  },
  {
   "cell_type": "code",
   "execution_count": 53,
   "metadata": {},
   "outputs": [
    {
     "name": "stdout",
     "output_type": "stream",
     "text": [
      "Model: \"sequential_2\"\n",
      "_________________________________________________________________\n",
      "Layer (type)                 Output Shape              Param #   \n",
      "=================================================================\n",
      "embedding_1 (Embedding)      (None, None, 64)          320000    \n",
      "_________________________________________________________________\n",
      "bidirectional_2 (Bidirection (None, 128)               66048     \n",
      "_________________________________________________________________\n",
      "dense_4 (Dense)              (None, 64)                8256      \n",
      "_________________________________________________________________\n",
      "dense_5 (Dense)              (None, 8)                 520       \n",
      "=================================================================\n",
      "Total params: 394,824\n",
      "Trainable params: 394,824\n",
      "Non-trainable params: 0\n",
      "_________________________________________________________________\n"
     ]
    }
   ],
   "source": [
    "optimizer = Adam(lr=0.01)\n",
    "model = tf.keras.Sequential([\n",
    "tf.keras.layers.Embedding(num_words, embedding_size),\n",
    "tf.keras.layers.Bidirectional(tf.keras.layers.LSTM(embedding_size)),\n",
    "tf.keras.layers.Dense(embedding_size, activation='relu'),\n",
    "tf.keras.layers.Dense(8, activation='softmax')\n",
    "])\n",
    "model.summary()"
   ]
  },
  {
   "cell_type": "code",
   "execution_count": 54,
   "metadata": {
    "colab": {},
    "colab_type": "code",
    "id": "edclRAJyErpn",
    "outputId": "d121b9d8-3fd8-4a01-9dcc-4aa20aa96cc0"
   },
   "outputs": [],
   "source": [
    "model.compile(loss='categorical_crossentropy',\n",
    "              optimizer='adam',\n",
    "              metrics=['acc'])"
   ]
  },
  {
   "cell_type": "code",
   "execution_count": 55,
   "metadata": {
    "colab": {},
    "colab_type": "code",
    "id": "Juk3qPOhErpu",
    "outputId": "7d74b15a-9a4d-45dd-aefc-6d974a5f9e60"
   },
   "outputs": [
    {
     "name": "stdout",
     "output_type": "stream",
     "text": [
      "Model: \"sequential_2\"\n",
      "_________________________________________________________________\n",
      "Layer (type)                 Output Shape              Param #   \n",
      "=================================================================\n",
      "embedding_1 (Embedding)      (None, None, 64)          320000    \n",
      "_________________________________________________________________\n",
      "bidirectional_2 (Bidirection (None, 128)               66048     \n",
      "_________________________________________________________________\n",
      "dense_4 (Dense)              (None, 64)                8256      \n",
      "_________________________________________________________________\n",
      "dense_5 (Dense)              (None, 8)                 520       \n",
      "=================================================================\n",
      "Total params: 394,824\n",
      "Trainable params: 394,824\n",
      "Non-trainable params: 0\n",
      "_________________________________________________________________\n"
     ]
    }
   ],
   "source": [
    "model.summary()"
   ]
  },
  {
   "cell_type": "code",
   "execution_count": 56,
   "metadata": {},
   "outputs": [
    {
     "data": {
      "text/plain": [
       "array([[   0,    0,    0, ...,    1,    3, 4947],\n",
       "       [   0,    0,    0, ..., 1259,  672,    3],\n",
       "       [   0,    0,    0, ...,   98,    3,  521],\n",
       "       ...,\n",
       "       [   0,    0,    0, ...,   37,  511, 2829],\n",
       "       [   0,    0,    0, ...,  471,  363,  177],\n",
       "       [   0,    0,    0, ...,  600,   15, 1649]])"
      ]
     },
     "execution_count": 56,
     "metadata": {},
     "output_type": "execute_result"
    }
   ],
   "source": [
    "x_train_pad"
   ]
  },
  {
   "cell_type": "code",
   "execution_count": 57,
   "metadata": {},
   "outputs": [],
   "source": [
    "class_weight = {0: weights[0],\n",
    "                1: weights[1],\n",
    "                2: weights[2],\n",
    "                3: weights[3],\n",
    "                4: weights[4],\n",
    "                5: weights[5],\n",
    "                6: weights[6],\n",
    "                7: weights[7]}"
   ]
  },
  {
   "cell_type": "code",
   "execution_count": null,
   "metadata": {
    "colab": {},
    "colab_type": "code",
    "id": "sQIWIvfCErpz",
    "outputId": "26897b0a-4843-4d00-fa14-c719be65c6c8",
    "scrolled": true
   },
   "outputs": [
    {
     "name": "stdout",
     "output_type": "stream",
     "text": [
      "WARNING:tensorflow:sample_weight modes were coerced from\n",
      "  ...\n",
      "    to  \n",
      "  ['...']\n",
      "WARNING:tensorflow:sample_weight modes were coerced from\n",
      "  ...\n",
      "    to  \n",
      "  ['...']\n",
      "Train on 38000 samples, validate on 2000 samples\n",
      "Epoch 1/8\n",
      "38000/38000 [==============================] - 1089s 29ms/sample - loss: 1.6670 - acc: 0.3437 - val_loss: 1.5860 - val_acc: 0.4270\n",
      "Epoch 2/8\n",
      "38000/38000 [==============================] - 1101s 29ms/sample - loss: 1.4252 - acc: 0.4540 - val_loss: 1.5336 - val_acc: 0.4185\n",
      "Epoch 3/8\n",
      "38000/38000 [==============================] - 1245s 33ms/sample - loss: 1.2857 - acc: 0.5092 - val_loss: 1.5804 - val_acc: 0.4070\n",
      "Epoch 4/8\n",
      "38000/38000 [==============================] - 1073s 28ms/sample - loss: 1.1602 - acc: 0.5574 - val_loss: 1.6809 - val_acc: 0.4070\n",
      "Epoch 5/8\n",
      "38000/38000 [==============================] - 1248s 33ms/sample - loss: 1.0288 - acc: 0.6083 - val_loss: 1.8558 - val_acc: 0.3820\n",
      "Epoch 6/8\n",
      "38000/38000 [==============================] - 1146s 30ms/sample - loss: 0.9077 - acc: 0.6558 - val_loss: 1.9536 - val_acc: 0.3995\n",
      "Epoch 7/8\n",
      "32328/38000 [========================>.....] - ETA: 3:19 - loss: 0.7741 - acc: 0.7122"
     ]
    }
   ],
   "source": [
    "%%time\n",
    "y_train=np.array(y_train)\n",
    "history=model.fit(x_train_pad, y_train,\n",
    "          class_weight=class_weight, validation_split=0.05, epochs=8, batch_size=8)"
   ]
  },
  {
   "cell_type": "code",
   "execution_count": 33,
   "metadata": {},
   "outputs": [],
   "source": [
    "import matplotlib.pyplot as plt\n",
    "def plot_graphs(history, string):\n",
    "    plt.plot(history.history[string])\n",
    "    plt.plot(history.history['val_'+string])\n",
    "    plt.xlabel(\"Epochs\")\n",
    "    plt.ylabel(string)\n",
    "    plt.legend([string, 'val_'+string])\n",
    "    plt.show()"
   ]
  },
  {
   "cell_type": "code",
   "execution_count": 34,
   "metadata": {},
   "outputs": [
    {
     "data": {
      "image/png": "[encoded data removed]",
      "text/plain": [
       "<Figure size 432x288 with 1 Axes>"
      ]
     },
     "metadata": {
      "needs_background": "light"
     },
     "output_type": "display_data"
    },
    {
     "data": {
      "image/png": "[encoded data removed]",
      "text/plain": [
       "<Figure size 432x288 with 1 Axes>"
      ]
     },
     "metadata": {
      "needs_background": "light"
     },
     "output_type": "display_data"
    }
   ],
   "source": [
    "plot_graphs(history, \"acc\")\n",
    "plot_graphs(history, \"loss\")"
   ]
  },
  {
   "cell_type": "code",
   "execution_count": 35,
   "metadata": {
    "colab": {},
    "colab_type": "code",
    "id": "jN3E9TOGErp2",
    "outputId": "c07fbd7a-7f89-4c63-a634-f6601b53b91c"
   },
   "outputs": [
    {
     "name": "stdout",
     "output_type": "stream",
     "text": [
      "313/313 [==============================] - 4s 11ms/step - loss: 1.6238 - acc: 0.3697\n",
      "Wall time: 4.7 s\n"
     ]
    }
   ],
   "source": [
    "%%time\n",
    "y_test=np.array(y_test)\n",
    "result = model.evaluate(x_test_pad, y_test)"
   ]
  },
  {
   "cell_type": "code",
   "execution_count": 36,
   "metadata": {
    "colab": {},
    "colab_type": "code",
    "id": "dMUrGwYdErp8",
    "outputId": "264f7de7-f9b2-4dd5-97d0-6ab5d185bcb1"
   },
   "outputs": [
    {
     "name": "stdout",
     "output_type": "stream",
     "text": [
      "Accuracy: 36.97%\n"
     ]
    }
   ],
   "source": [
    "print(\"Accuracy: {0:.2%}\".format(result[1]))"
   ]
  },
  {
   "cell_type": "code",
   "execution_count": 37,
   "metadata": {
    "colab": {},
    "colab_type": "code",
    "id": "0wzSrjt5ErqC",
    "outputId": "8121bf5a-f4c0-4978-ed05-46a9cd9e71e1"
   },
   "outputs": [
    {
     "name": "stdout",
     "output_type": "stream",
     "text": [
      "Wall time: 1.5 s\n"
     ]
    }
   ],
   "source": [
    "%%time\n",
    "y_pred = model.predict(x=x_test_pad[0:2000])\n",
    "#y_pred = y_pred.T[0]"
   ]
  },
  {
   "cell_type": "code",
   "execution_count": 39,
   "metadata": {},
   "outputs": [
    {
     "name": "stdout",
     "output_type": "stream",
     "text": [
      "WARNING:tensorflow:From D:\\ProgramData\\anaconda3\\envs\\tf\\lib\\site-packages\\tensorflow\\python\\training\\tracking\\tracking.py:111: Model.state_updates (from tensorflow.python.keras.engine.training) is deprecated and will be removed in a future version.\n",
      "Instructions for updating:\n",
      "This property should not be used in TensorFlow 2.0, as updates are applied automatically.\n",
      "WARNING:tensorflow:From D:\\ProgramData\\anaconda3\\envs\\tf\\lib\\site-packages\\tensorflow\\python\\training\\tracking\\tracking.py:111: Layer.updates (from tensorflow.python.keras.engine.base_layer) is deprecated and will be removed in a future version.\n",
      "Instructions for updating:\n",
      "This property should not be used in TensorFlow 2.0, as updates are applied automatically.\n",
      "INFO:tensorflow:Assets written to: ModelEqualDistroNoDeleteBidirectional\\assets\n"
     ]
    }
   ],
   "source": [
    "##Saving and loading model\n",
    "model.save(\"ModelEqualDistroNoDeleteBidirectional\")\n",
    "#model = keras.models.load_model(\"path_to_my_model\")"
   ]
  },
  {
   "cell_type": "code",
   "execution_count": 40,
   "metadata": {},
   "outputs": [],
   "source": [
    "#exampleReview=\"I had high expectations for this movie. When I saw Shrek 2, I was pleasantly surprised. Few sequels are as good as the original, but Shrek 2 was. Shrek the third did not continue this trend. While there were sill plenty of funny moments, it was nowhere near as amusing or original as the first two. They could have done so much more with this movie if they had tried. At the end, I felt sort of cheated. However, Shek the third isnt a bad movie in itself, only when compared to the others. I would still recommend going to see it. Unlike most, I liked Arties character, even if he did talk too much (Im not even a Justin Timberlake fan).\"\n",
    "#10\n",
    "#exampleReview=\"The Godfather: Part II is a very suspenseful drama with a very exciting story, with great acting and great special effects. I would definitely recommend you watch this movie...but first watch the original classic from 1972 The Godfather . The movie may not be as good as the first movie but is still an amazing sequel.\"\n",
    "#7\n",
    "exampleReview=\"If you like Karate, you will love this. I like the fight scenes, and the bad guy in the film is always a bad guy in Karate movies. ( ie Enter The Dragon) It is a bit sloppy in spots, but considering the budget you can not hit this film too hard. It is a good film to see if your mad or angry at someone.\"\n",
    "#1\n",
    "#exampleReview=\"If I thought the overlong, frightfully dull Avatar contained and rehashed every Hollywood cliché ever used, albeit in blue, Prince of Persia: Sands of Time runs the gamut of every mindless Hollywood action-feature effect, computerized or not, and even as an admittedly escapism event, it falls short of any intended mark. It is obvious that there is little new under the Hollywood sun. Frankly, 1942's Arabian Nights did this plot line much better and Shemp Howard, of Three Stooges fame, surpassed Alfred Molina's deadly dull and ineffective attempt at humor. Jake Gyllenhaal, in spite of much daring-do stunts and macho posturing, is still not the virile stud hero that his handlers are trying to turn him into, and Arterton's clichéd bitchy dialog becomes tedious after 10 minutes. It's a shallow waste of time from beginning to end and how Ben Kingsley could keep a straight face throughout this loud, noisy romp is a testament to his enormous experience in front of a camera.\"\n",
    "#6\n",
    "#exampleReview=\"Reading some of the harsh reviews I thought I would comment. The big disappointment for me in the movie was the lack of gore , fox did get it wrong to make it a pg13 even though they tried to substitute it with monster gore. All that being said this movie is a visual master-peace, the effects are top notch with very good fight scenes and creature effects with the best looking Alien Queen to hit the screens, The story is pretty cool and it gives more insight of the Predators, It takes a while for the introduction of the creatures but once the ball is rolling its none stop action. Not the horror feast we all wanted but fun.\"\n",
    "#3\n",
    "#exampleReview=\"In this final chapter of the ROCKY series, the Italian Stallion, now broke and brain damaged from his last fight, faces a promoter who wants him to do another bout, an amateur boxer whom he agrees to train, and his own son who starts to feel neglected. This time around, even Stallone gives a weak performance, and Tommy Morrison fails to make an impression as Rocky's Robot Tommy Gunn. Sly's real-life son Sage, who plays Rocky Jr,, and Burgess Meredith's brief appearance as Mickey are the only characters with any interest. The bottom spot of the movie is the climaxing streetfight, which barely makes the film worth a watch.\""
   ]
  },
  {
   "cell_type": "code",
   "execution_count": 41,
   "metadata": {},
   "outputs": [
    {
     "name": "stdout",
     "output_type": "stream",
     "text": [
      "Wall time: 3.31 s\n"
     ]
    }
   ],
   "source": [
    "%%time\n",
    "y_pred = model.predict(x=x_test_pad)"
   ]
  },
  {
   "cell_type": "code",
   "execution_count": 42,
   "metadata": {},
   "outputs": [],
   "source": [
    "y_res=[]\n",
    "y_test_res=[]\n",
    "##pred\n",
    "for i in range(0,len(y_pred)):\n",
    "    rate=np.argmax(y_pred[i])\n",
    "    y_res.append(rate)\n",
    "\n",
    "for i in range(0,len(y_test)):\n",
    "    rate=np.argmax(y_test[i])\n",
    "    y_test_res.append(rate)"
   ]
  },
  {
   "cell_type": "code",
   "execution_count": 43,
   "metadata": {},
   "outputs": [
    {
     "data": {
      "image/png": "[encoded data removed]",
      "text/plain": [
       "<Figure size 432x288 with 2 Axes>"
      ]
     },
     "metadata": {
      "needs_background": "light"
     },
     "output_type": "display_data"
    }
   ],
   "source": [
    "from sklearn.metrics import confusion_matrix\n",
    "from sklearn.metrics import ConfusionMatrixDisplay\n",
    "cm=confusion_matrix(y_test_res,y_res)\n",
    "cm_display = ConfusionMatrixDisplay(cm).plot()"
   ]
  },
  {
   "cell_type": "code",
   "execution_count": null,
   "metadata": {},
   "outputs": [],
   "source": [
    "def perf_measure(y_actual, y_hat):\n",
    "    TP = 0\n",
    "    FP = 0\n",
    "    TN = 0\n",
    "    FN = 0\n",
    "    for i in range(len(y_hat)): \n",
    "        if y_actual[i]==y_hat[i] and y_hat[i]>5.0:\n",
    "           TP += 1\n",
    "        if y_hat[i]>5.0 and y_actual[i]!=y_hat[i]:\n",
    "           FP += 1\n",
    "        if y_actual[i]==y_hat[i] and y_hat[i]<=5.0:\n",
    "           TN += 1\n",
    "        if y_hat[i]<=5.0 and y_actual[i]!=y_hat[i]:\n",
    "           FN += 1\n",
    "    return(TP, FP, TN, FN)"
   ]
  },
  {
   "cell_type": "code",
   "execution_count": null,
   "metadata": {},
   "outputs": [],
   "source": [
    "TP, FP, TN, FN = perf_measure(y_test_res, y_res);"
   ]
  },
  {
   "cell_type": "code",
   "execution_count": null,
   "metadata": {},
   "outputs": [],
   "source": [
    "import math  "
   ]
  },
  {
   "cell_type": "code",
   "execution_count": null,
   "metadata": {},
   "outputs": [],
   "source": [
    "def calculate_metrics(TP, FP, TN, FN):\n",
    "    sensitivity = TP/(TP+FN)\n",
    "    specificity = TN/(TN+FP)\n",
    "    precision = TP/(TP+FP)\n",
    "    NPV = TN/(TN+FN)\n",
    "    #miss_rate = 1-sensitivity\n",
    "    #fall_out = 1-specificity\n",
    "    #FDR = 1-precision\n",
    "    #false_omission_rate = 1-NPV\n",
    "    #PT = math.sqrt(sensitivity*(-specificity+1))+specificity-1/(sensitivity+specificity-1)\n",
    "    #threat_score = TP/(TP+FN+FP)\n",
    "    return sensitivity, specificity, precision, NPV, PT, threat_score"
   ]
  },
  {
   "cell_type": "code",
   "execution_count": null,
   "metadata": {},
   "outputs": [],
   "source": [
    "#NPV - negative predictive value\n",
    "#FDR - false discovery rate\n",
    "#FOR - false omission rate\n",
    "#PT - prevalence threshold\n",
    "sensitivity, specificity, precision, NPV = calculate_metrics(TP, FP, TN, FN)"
   ]
  }
 ],
 "metadata": {
  "colab": {
   "name": "20_Natural_Language_Processing.ipynb",
   "provenance": [],
   "version": "0.3.2"
  },
  "kernelspec": {
   "display_name": "Python 3",
   "language": "python",
   "name": "python3"
  },
  "language_info": {
   "codemirror_mode": {
    "name": "ipython",
    "version": 3
   },
   "file_extension": ".py",
   "mimetype": "text/x-python",
   "name": "python",
   "nbconvert_exporter": "python",
   "pygments_lexer": "ipython3",
   "version": "3.6.13"
  }
 },
 "nbformat": 4,
 "nbformat_minor": 1
}
